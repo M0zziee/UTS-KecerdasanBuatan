{
  "nbformat": 4,
  "nbformat_minor": 0,
  "metadata": {
    "colab": {
      "provenance": [],
      "authorship_tag": "ABX9TyO6vJrsZlnG9ezy27rZ8x59",
      "include_colab_link": true
    },
    "kernelspec": {
      "name": "python3",
      "display_name": "Python 3"
    },
    "language_info": {
      "name": "python"
    }
  },
  "cells": [
    {
      "cell_type": "markdown",
      "metadata": {
        "id": "view-in-github",
        "colab_type": "text"
      },
      "source": [
        "<a href=\"https://colab.research.google.com/github/M0zziee/UTS-KecerdasanBuatan/blob/main/UTS_Ai_No_1.ipynb\" target=\"_parent\"><img src=\"https://colab.research.google.com/assets/colab-badge.svg\" alt=\"Open In Colab\"/></a>"
      ]
    },
    {
      "cell_type": "code",
      "execution_count": 4,
      "metadata": {
        "colab": {
          "base_uri": "https://localhost:8080/"
        },
        "id": "902fOxLvltsh",
        "outputId": "18c14861-49ca-49db-db72-f6dc28aaad36"
      },
      "outputs": [
        {
          "output_type": "stream",
          "name": "stdout",
          "text": [
            "Sistem Identifikasi Hama Tanaman\n",
            "Masukkan gejala yang muncul (pisahkan dengan koma)\n",
            "Pilihan gejala: daun menguning, bercak hitam, daun berlubang, tanaman layu\n",
            "Gejala: daun menguning, bercak hitam\n",
            "\n",
            "Berdasarkan gejala, kemungkinan hama/penyakit yang terdeteksi beserta solusinya:\n",
            "- Penyakit Jamur: Gunakan fungisida dan pastikan tanaman mendapat sirkulasi udara yang baik.\n",
            "\n",
            "===============================================================\n",
            "Penjelasan Alur Inferensi:\n",
            "1. Sistem menerima input gejala dari pengguna.\n",
            "2. Sistem mencocokkan input gejala dengan aturan yang tersedia.\n",
            "3. Jika semua syarat dalam satu aturan terpenuhi, sistem mengidentifikasi hama/penyakit dan memberikan solusi.\n",
            "4. Hasilnya ditampilkan ke pengguna.\n"
          ]
        }
      ],
      "source": [
        "# Sistem Pakar Identifikasi Hama Tanaman dengan Solusi\n",
        "\n",
        "def inferensi(gejala):\n",
        "    # Basis aturan (knowledge base)\n",
        "    aturan = [\n",
        "        ([\"daun menguning\", \"tanaman layu\"], \"Hama Wereng\", \"Gunakan insektisida sistemik dan rotasi tanaman.\"),\n",
        "        ([\"bercak hitam\", \"daun berlubang\"], \"Hama Ulat\", \"Semprotkan pestisida alami berbahan neem atau insektisida biologis.\"),\n",
        "        ([\"daun menguning\", \"bercak hitam\"], \"Penyakit Jamur\", \"Gunakan fungisida dan pastikan tanaman mendapat sirkulasi udara yang baik.\"),\n",
        "        ([\"daun berlubang\", \"tanaman layu\"], \"Hama Kumbang\", \"Gunakan perangkap kumbang dan pestisida selektif.\")\n",
        "    ]\n",
        "\n",
        "    hasil = []\n",
        "    for syarat, hama, solusi in aturan:\n",
        "        if all(g in gejala for g in syarat):\n",
        "            hasil.append((hama, solusi))\n",
        "    return hasil\n",
        "\n",
        "# Input dari user\n",
        "print(\"Sistem Identifikasi Hama Tanaman\")\n",
        "print(\"Masukkan gejala yang muncul (pisahkan dengan koma)\")\n",
        "print(\"Pilihan gejala: daun menguning, bercak hitam, daun berlubang, tanaman layu\")\n",
        "input_user = input(\"Gejala: \").lower().split(',')\n",
        "\n",
        "# Bersihkan spasi\n",
        "gejala_input = [g.strip() for g in input_user]\n",
        "\n",
        "# Inferensi\n",
        "hasil_inferensi = inferensi(gejala_input)\n",
        "\n",
        "# Output\n",
        "if hasil_inferensi:\n",
        "    print(\"\\nBerdasarkan gejala, kemungkinan hama/penyakit yang terdeteksi beserta solusinya:\")\n",
        "    for hama, solusi in hasil_inferensi:\n",
        "        print(f\"- {hama}: {solusi}\")\n",
        "else:\n",
        "    print(\"\\nTidak ditemukan hama/penyakit yang cocok berdasarkan gejala yang diberikan.\")\n",
        "\n",
        "# Penjelasan Alur\n",
        "print(\"\\n===============================================================\")\n",
        "print(\"Penjelasan Alur Inferensi:\")\n",
        "print(\"1. Sistem menerima input gejala dari pengguna.\")\n",
        "print(\"2. Sistem mencocokkan input gejala dengan aturan yang tersedia.\")\n",
        "print(\"3. Jika semua syarat dalam satu aturan terpenuhi, sistem mengidentifikasi hama/penyakit dan memberikan solusi.\")\n",
        "print(\"4. Hasilnya ditampilkan ke pengguna.\")\n"
      ]
    },
    {
      "cell_type": "markdown",
      "source": [
        "alur input-output ada di code"
      ],
      "metadata": {
        "id": "h3GUeuCswTf7"
      }
    }
  ]
}